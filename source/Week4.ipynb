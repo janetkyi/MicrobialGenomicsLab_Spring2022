{
 "cells": [
  {
   "cell_type": "markdown",
   "metadata": {},
   "source": [
    "## Week 4"
   ]
  },
  {
   "cell_type": "markdown",
   "metadata": {},
   "source": [
    "### Agenda for (02/02/2020)\n",
    "\n",
    "  - Introduction to High-Performance Computing (HPC) resources at GW\n",
    "  - Lab exercises\n",
    "    - using Python virtual environments\n",
    "    - connecting to and working remotely on `cerberus`\n",
    "    - install Miniconda and Bioconda on `cerberus`\n",
    "    - microbial genome assembly using SPAdes\n",
    "    - obtain assembly metrics using Quast\n",
    "    - visualization of assemblies using Bandage\n",
    "    - transfer metagenomic data to `cerberus` for next week\n",
    "\n",
    "  - Assignments\n",
    "    - Assignment 2 (we're a bit behind on assignments)\n",
    "    - Reading assignments"
   ]
  }
 ],
 "metadata": {
  "kernelspec": {
   "display_name": "Python 3 (ipykernel)",
   "language": "python",
   "name": "python3"
  },
  "language_info": {
   "codemirror_mode": {
    "name": "ipython",
    "version": 3
   },
   "file_extension": ".py",
   "mimetype": "text/x-python",
   "name": "python",
   "nbconvert_exporter": "python",
   "pygments_lexer": "ipython3",
   "version": "3.9.6"
  }
 },
 "nbformat": 4,
 "nbformat_minor": 4
}
