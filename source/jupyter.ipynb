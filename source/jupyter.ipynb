{
 "cells": [
  {
   "cell_type": "markdown",
   "metadata": {},
   "source": [
    "## Install Jupyter and Jupyter-lab"
   ]
  },
  {
   "cell_type": "markdown",
   "metadata": {},
   "source": [
    "We will make extensive use of Jupyter-lab to document work and to take notes. You will also need to use Jupyter-lab as a notebook that you will submit at the end of the semester for your final project. To install them, type in your terminal:\n",
    "\n",
    "`conda install jupyter`\n",
    "\n",
    "and\n",
    "\n",
    "`conda install jupyterlab`\n",
    "\n",
    "You will have to type \"y\" when you are prompted for confirmation after typing these commands. Now these tools should be installed in your command line environment.\n"
   ]
  },
  {
   "cell_type": "markdown",
   "metadata": {},
   "source": [
    "### How to use Jupyter-lab?"
   ]
  },
  {
   "cell_type": "markdown",
   "metadata": {},
   "source": [
    "I will be demonstrating its use during class."
   ]
  },
  {
   "cell_type": "markdown",
   "metadata": {},
   "source": [
    "## Tools to install for next week"
   ]
  },
  {
   "cell_type": "markdown",
   "metadata": {},
   "source": [
    "Using `conda`, you will need to install a few tools that we will be using during class next week. The tools are:\n",
    "\n",
    "- sra-tools\n",
    "- fastqc\n",
    "- bbmap\n",
    "\n",
    "Using examples I have shown above, search and install these three tools on your computer.\n"
   ]
  }
 ],
 "metadata": {
  "kernelspec": {
   "display_name": "Python 3 (ipykernel)",
   "language": "python",
   "name": "python3"
  },
  "language_info": {
   "codemirror_mode": {
    "name": "ipython",
    "version": 3
   },
   "file_extension": ".py",
   "mimetype": "text/x-python",
   "name": "python",
   "nbconvert_exporter": "python",
   "pygments_lexer": "ipython3",
   "version": "3.9.6"
  }
 },
 "nbformat": 4,
 "nbformat_minor": 4
}
