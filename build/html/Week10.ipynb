{
 "cells": [
  {
   "cell_type": "markdown",
   "metadata": {},
   "source": [
    "## Week 10"
   ]
  },
  {
   "cell_type": "markdown",
   "metadata": {},
   "source": [
    "### Agenda for (03/23/2022)"
   ]
  },
  {
   "cell_type": "markdown",
   "metadata": {},
   "source": [
    "- Lecture on Microbial Diversity in Various Habitats\n",
    "- Lab exercises\n",
    "  - DADA2 and Phyloseq exercises using a dataset you will download from NCBI SRA"
   ]
  },
  {
   "cell_type": "markdown",
   "metadata": {},
   "source": [
    "### Relevant Papers to Read"
   ]
  },
  {
   "cell_type": "markdown",
   "metadata": {},
   "source": [
    "**DADA2**\n",
    "\n",
    "https://www.nature.com/articles/nmeth.3869\n",
    "\n",
    "**Phyloseq**\n",
    "\n",
    "https://journals.plos.org/plosone/article?id=10.1371/journal.pone.0061217\n",
    "\n",
    "**MiSeq SOP paper**\n",
    "\n",
    "https://aem.asm.org/content/79/17/5112\n"
   ]
  }
 ],
 "metadata": {
  "kernelspec": {
   "display_name": "Python 3 (ipykernel)",
   "language": "python",
   "name": "python3"
  },
  "language_info": {
   "codemirror_mode": {
    "name": "ipython",
    "version": 3
   },
   "file_extension": ".py",
   "mimetype": "text/x-python",
   "name": "python",
   "nbconvert_exporter": "python",
   "pygments_lexer": "ipython3",
   "version": "3.9.6"
  }
 },
 "nbformat": 4,
 "nbformat_minor": 4
}
