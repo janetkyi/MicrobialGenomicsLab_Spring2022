{
 "cells": [
  {
   "cell_type": "markdown",
   "id": "b441afb6-f7de-468f-af6b-5dc2b4db1850",
   "metadata": {},
   "source": [
    "## Testing"
   ]
  },
  {
   "cell_type": "code",
   "execution_count": 2,
   "id": "43f8ffa6-e81b-4a51-a5d8-79d269ed29d2",
   "metadata": {},
   "outputs": [
    {
     "name": "stderr",
     "output_type": "stream",
     "text": [
      "usage: ipykernel_launcher.py [-h] -t TREE -m MAPPING -o OUTFILE [-s]\n",
      "ipykernel_launcher.py: error: the following arguments are required: -t/--tree, -m/--mapping, -o/--outfile\n"
     ]
    },
    {
     "ename": "SystemExit",
     "evalue": "2",
     "output_type": "error",
     "traceback": [
      "An exception has occurred, use %tb to see the full traceback.\n",
      "\u001b[0;31mSystemExit\u001b[0m\u001b[0;31m:\u001b[0m 2\n"
     ]
    },
    {
     "name": "stderr",
     "output_type": "stream",
     "text": [
      "/Users/jsaw/miniconda3/lib/python3.9/site-packages/IPython/core/interactiveshell.py:3452: UserWarning: To exit: use 'exit', 'quit', or Ctrl-D.\n",
      "  warn(\"To exit: use 'exit', 'quit', or Ctrl-D.\", stacklevel=1)\n"
     ]
    }
   ],
   "source": [
    "#!/usr/bin/env python\n",
    "__author__ = \"Jimmy Saw\"\n",
    "\n",
    "\"\"\"\n",
    "usage example:\n",
    "\n",
    "\"\"\"\n",
    "\n",
    "import argparse\n",
    "import pandas as pd\n",
    "import ete3\n",
    "from ete3 import Tree, TreeStyle, NodeStyle, faces\n",
    "\n",
    "def treeLayout(node):    \n",
    "    if node.is_leaf():\n",
    "        if node.name in m:\n",
    "            N = ete3.faces.TextFace(m[node.name][1] + \" (\" + m[node.name][0] + \")\", fsize=10, fstyle='italic')\n",
    "            faces.add_face_to_node(N, node, 0)    \n",
    "            #faces.add_face_to_node(N, node, column=0, position=\"aligned\")\n",
    "        else:\n",
    "            print(node.name)\n",
    "\n",
    "def draw_tree(tree, mapping, outfile, support):\n",
    "    t = Tree(tree)\n",
    "    og = ['GCA_903970565.1_BOG_genome_mining.92_sub', 'GCA_001858525.1_ASM185852v1', 'GCA_003864455.1_ASM386445v1']\n",
    "    lca = t.get_common_ancestor(og)\n",
    "    t.set_outgroup(lca)\n",
    "    t.ladderize(direction=1)\n",
    "\n",
    "    ts = TreeStyle()\n",
    "    #ts.show_branch_support = True\n",
    "    ts.branch_vertical_margin = 0\n",
    "    ts.show_leaf_name = False\n",
    "    ns = NodeStyle()\n",
    "    if args.support:\n",
    "        ts.show_branch_support = True\n",
    "    ns['shape'] = \"square\"\n",
    "    ns['size'] = 0\n",
    "    ns['vt_line_width'] = 1\n",
    "    ns['hz_line_width'] = 1\n",
    "    for n in t.traverse():\n",
    "        n.set_style(ns)\n",
    "\n",
    "    global m\n",
    "\n",
    "    m = {}\n",
    "\n",
    "    with open(mapping, \"r\") as mf:\n",
    "        lines = mf.readlines()\n",
    "        for line in lines:\n",
    "            x = line.split(\"\\t\")\n",
    "            m[x[0]] = (x[1], x[2].strip())\n",
    "            #print(x[0], x[1], x[2])\n",
    "\n",
    "    ts.layout_fn = treeLayout\n",
    "\n",
    "    #t.render(file_name=outfile, w=8.5, h=11, units=\"in\", tree_style=ts, dpi=400)\n",
    "    t.render(file_name=outfile, tree_style=ts)\n",
    "\n",
    "\n",
    "if __name__ == \"__main__\":\n",
    "    parser = argparse.ArgumentParser(description=\"This script makes colored tubulin phylogenetic tree for final publication\")\n",
    "    parser.add_argument(\"-t\", \"--tree\", required=True, help=\"Tree file\")\n",
    "    parser.add_argument(\"-m\", \"--mapping\", required=True, help=\"Mapping file (taxon to clade mapping file)\")\n",
    "    parser.add_argument(\"-o\", \"--outfile\", required=True, help=\"Outfile name - PDF\")\n",
    "    parser.add_argument(\"-s\", \"--support\", action=\"store_true\", default=False, help=\"Choose this option to show support values\")\n",
    "    args = parser.parse_args()\n",
    "    draw_tree(args.tree, args.mapping, args.outfile, args.support)"
   ]
  },
  {
   "cell_type": "code",
   "execution_count": null,
   "id": "a4eec9f5-fa7d-465c-a722-9860cd333e84",
   "metadata": {},
   "outputs": [],
   "source": []
  }
 ],
 "metadata": {
  "kernelspec": {
   "display_name": "Python 3 (ipykernel)",
   "language": "python",
   "name": "python3"
  },
  "language_info": {
   "codemirror_mode": {
    "name": "ipython",
    "version": 3
   },
   "file_extension": ".py",
   "mimetype": "text/x-python",
   "name": "python",
   "nbconvert_exporter": "python",
   "pygments_lexer": "ipython3",
   "version": "3.9.6"
  }
 },
 "nbformat": 4,
 "nbformat_minor": 5
}
