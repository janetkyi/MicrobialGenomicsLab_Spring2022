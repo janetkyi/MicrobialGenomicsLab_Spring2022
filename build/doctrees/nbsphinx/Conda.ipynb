{
 "cells": [
  {
   "cell_type": "markdown",
   "metadata": {},
   "source": [
    "## Install and configure Miniconda and Bioconda"
   ]
  },
  {
   "cell_type": "markdown",
   "metadata": {},
   "source": [
    "Go here to download Miniconda package manager: https://docs.conda.io/en/latest/miniconda.html"
   ]
  },
  {
   "cell_type": "markdown",
   "metadata": {},
   "source": [
    "### Install Miniconda\n",
    "Follow instructions for both Mac and Windows. Choose Python 3.7 version. \n",
    "\n",
    "For **Mac**, I recommend you download the “pkg” version which is a graphical version of the installer.\n",
    "\n",
    "For **Windows/WSL**, open your Ubuntu shell (right-click on the icon and run as Administrator). Then type:\n",
    "\n",
    "```bash\n",
    "cd /mnt/c\n",
    "mkdir tools\n",
    "cd tools\n",
    "wget https://repo.anaconda.com/miniconda/Miniconda3-latest-Linux-x86_64.sh\n",
    "chmod +x Miniconda3-latest-Linux-x86_64.sh\n",
    "./Miniconda3-latest-Linux-x86_64.sh\n",
    "```\n",
    "\n",
    "Follow the instructions along and make sure you say \"yes\" at the very end when it asked you if you want the installer to prepend it to path.\n",
    "\n",
    "You can visit this page for more tips on how to instlall Miniconda on WSL.\n",
    "\n",
    "https://gist.github.com/kauffmanes/5e74916617f9993bc3479f401dfec7da\n",
    "\n",
    "**After installation:**\n",
    "\n",
    "For **Mac**:\n",
    "\n",
    "Close your terminal and open it again. Try typing `conda` to see if the command works. You will see a bunch of options you can type with the conda command.\n",
    "\n",
    "\n",
    "For **Windows**:\n",
    "\n",
    "Close your Ubuntu shell, then restart it by right-cliking on the Ubuntu icon and run it as Administrator. Try typing `conda` to see if it shows options.\n",
    "\n",
    "### Install Bioconda\n",
    "\n",
    "After Miniconda is installed, you will need to configure Bioconda channels. Bioconda allows you to install *most* bioinformatics tools with ease without learning to use compilers or to figure out software dependencies.\n",
    "\n",
    "Install bioconda by typing the following commands in your terminal:\n",
    "\n",
    "```\n",
    "conda config --add channels defaults\n",
    "conda config --add channels bioconda\n",
    "conda config --add channels conda-forge\n",
    "```\n",
    "\n",
    "These commands will add bioinformatics related tools “channels” to miniconda. Now, you should be able to search and install tools locally on your computer. Try install jupyter first.\n",
    "\n",
    "```\n",
    "conda search jupyter\n",
    "conda install jupyter\n",
    "\n",
    "conda search jupyterlab\n",
    "conda install jupyterlab\n",
    "```\n",
    "\n",
    "After you have configured the bioconda channels, most of the bioinformatics tools we will use in this course should be available for installation through `conda`."
   ]
  }
 ],
 "metadata": {
  "kernelspec": {
   "display_name": "Python 3 (ipykernel)",
   "language": "python",
   "name": "python3"
  },
  "language_info": {
   "codemirror_mode": {
    "name": "ipython",
    "version": 3
   },
   "file_extension": ".py",
   "mimetype": "text/x-python",
   "name": "python",
   "nbconvert_exporter": "python",
   "pygments_lexer": "ipython3",
   "version": "3.9.6"
  }
 },
 "nbformat": 4,
 "nbformat_minor": 4
}
